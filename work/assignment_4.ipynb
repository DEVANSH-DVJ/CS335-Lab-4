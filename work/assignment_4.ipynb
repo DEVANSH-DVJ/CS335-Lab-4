{
 "cells": [
  {
   "cell_type": "markdown",
   "metadata": {
    "id": "9hRpsy5Zp8Lr"
   },
   "source": [
    "## <font color=red> You should not import any new libraries. Your code should run with python=3.x</font>\n",
    "\n",
    "- Your solutions will be auto-graded. Hence we request you to follow the instructions.\n",
    "- Modify the code only between\n",
    "\n",
    "```\n",
    "## TODO\n",
    "## END TODO\n",
    "```\n",
    "\n",
    "- In addition to above changes, you can play with arguments to the functions for generating plots\n",
    "- We will run the auto grading scripts with private test data\n"
   ]
  },
  {
   "cell_type": "code",
   "execution_count": null,
   "metadata": {
    "id": "9_SUYJ-3nuMy"
   },
   "outputs": [],
   "source": [
    "import numpy as np\n",
    "from matplotlib import pyplot as plt\n",
    "import math\n"
   ]
  },
  {
   "cell_type": "markdown",
   "metadata": {
    "id": "BiGi8JNJzN_f"
   },
   "source": [
    "# KMeans Algorithm\n"
   ]
  },
  {
   "cell_type": "code",
   "execution_count": null,
   "metadata": {
    "id": "weLDuQN5zMFA"
   },
   "outputs": [],
   "source": [
    "class Kmeans:\n",
    "    \"\"\"\n",
    "    Implementing Kmeans algorithm.\n",
    "\n",
    "    You may choose to define additional helper function within this class, however don't change the prototype of `fit` and `predict` classes.   \n",
    "    \"\"\"\n",
    "\n",
    "    def __init__(self, n_clusters, random_state):\n",
    "        \"\"\"\n",
    "        Implement of KMeans algorithm\n",
    "\n",
    "        Args:\n",
    "        n_clusters   : int - no. of clusters\n",
    "        random_state : int - changing this should change initial cluster centers\n",
    "        \"\"\"\n",
    "\n",
    "        self.n_clusters = n_clusters\n",
    "        self.random_state = random_state\n",
    "\n",
    "\n",
    "    def fit(self, X):\n",
    "        \"\"\"\n",
    "        Implement of KMeans algorithm and stores cluster centers as class object\n",
    "\n",
    "        Args:\n",
    "        X : numpy array of shape (n_samples, 2)\n",
    "\n",
    "        Returns:\n",
    "        Nothing\n",
    "        \"\"\"\n",
    "\n",
    "        ## TODO\n",
    "        n_samples = X.shape[0]\n",
    "        np.random.seed(self.random_state)\n",
    "        self.centroids = np.array(X[np.random.choice(n_samples, self.n_clusters, replace=False)])\n",
    "        Y = np.zeros((n_samples, ))\n",
    "        \n",
    "        for i in range(100):\n",
    "            new_Y = self.predict(X)\n",
    "\n",
    "            if (new_Y == Y).all():\n",
    "                break\n",
    "\n",
    "            Y = new_Y\n",
    "            for k in range(n_samples):\n",
    "                temp = X[Y==k]\n",
    "                if len(temp):\n",
    "                    self.centroids[k] = np.mean(X[Y==k], axis=0)\n",
    "\n",
    "        ## END TODO\n",
    "\n",
    "\n",
    "    def predict(self, X):\n",
    "        \"\"\"\n",
    "        Uses the stored cluster centers from fit to predict labels.\n",
    "        Args:\n",
    "        X : numpy array of shape (n_samples, 2)\n",
    "\n",
    "        Returns:\n",
    "        Y : numpy array of shape (n_samples, ) - labels for each of the data point in X\n",
    "        \"\"\"\n",
    "        \n",
    "        ## TODO\n",
    "        Y = np.argmin(self.distance(X), axis=1)\n",
    "        \n",
    "        ## END TODO\n",
    "        \n",
    "        assert Y.shape == (X.shape[0],), \"Return Y in expected format\"\n",
    "        return Y\n",
    "    \n",
    "\n",
    "    def distance(self, X):\n",
    "        diff = np.repeat(X.reshape((X.shape[0], 1, 2)), self.n_clusters, axis=1) \\\n",
    "            - self.centroids.reshape(1, self.n_clusters, 2)\n",
    "        return np.sum(diff**2, axis=2)\n"
   ]
  },
  {
   "cell_type": "markdown",
   "metadata": {
    "id": "kxgQgosmYXRu"
   },
   "source": [
    "## LOAD DATA 1\n"
   ]
  },
  {
   "cell_type": "code",
   "execution_count": null,
   "metadata": {
    "colab": {
     "base_uri": "https://localhost:8080/",
     "height": 301
    },
    "executionInfo": {
     "elapsed": 1849,
     "status": "ok",
     "timestamp": 1633924171009,
     "user": {
      "displayName": "Durga Sivasubramanian",
      "photoUrl": "https://lh3.googleusercontent.com/a-/AOh14GiAQNHTlFmokLSaiU31Ynqp2h95VZSo2EYQGsHveg=s64",
      "userId": "00150371781630175620"
     },
     "user_tz": -330
    },
    "id": "TSk_qe4RXFYz",
    "outputId": "b2fedf0c-6a39-43e9-e2ec-64e373626521"
   },
   "outputs": [],
   "source": [
    "X = np.load(\"./data/train_X_1.npy\")\n",
    "Y = np.array([np.load(\"./data/train_Y_1.npy\")]).T\n",
    "Y = np.squeeze(Y)\n",
    "\n",
    "plt.scatter(X[:, 0], X[:, 1], c=Y)\n",
    "plt.figure()\n",
    "\n",
    "km = Kmeans(4, 123)\n",
    "km.fit(X)\n",
    "y_pred = km.predict(X)\n",
    "plt.scatter(X[:, 0], X[:, 1], c=y_pred)\n"
   ]
  },
  {
   "cell_type": "markdown",
   "metadata": {
    "id": "WD0FOeS0JTk9"
   },
   "source": [
    "## LOAD DATA 2\n"
   ]
  },
  {
   "cell_type": "code",
   "execution_count": null,
   "metadata": {
    "id": "anDZmtgWqg8g"
   },
   "outputs": [],
   "source": [
    "X = np.load(\"./data/train_X_2.npy\")\n",
    "Y = np.array([np.load(\"./data/train_Y_2.npy\")]).T\n",
    "Y = np.squeeze(Y)\n",
    "\n",
    "plt.scatter(X[:, 0], X[:, 1], c=Y)\n",
    "plt.figure()\n",
    "\n",
    "km = Kmeans(2, 123)\n",
    "km.fit(X)\n",
    "y_pred = km.predict(X)\n",
    "plt.scatter(X[:, 0], X[:, 1], c=y_pred)\n"
   ]
  },
  {
   "cell_type": "markdown",
   "metadata": {
    "id": "vxJ31SFSJmuF"
   },
   "source": [
    "## LOAD DATA 3\n"
   ]
  },
  {
   "cell_type": "code",
   "execution_count": null,
   "metadata": {
    "id": "pKghUdYZJmuG"
   },
   "outputs": [],
   "source": [
    "X = np.load(\"./data/train_X_3.npy\")\n",
    "Y = np.array([np.load(\"./data/train_Y_3.npy\")]).T\n",
    "Y = np.squeeze(Y)\n",
    "\n",
    "plt.scatter(X[:, 0], X[:, 1], c=Y)\n",
    "plt.figure()\n",
    "\n",
    "km = Kmeans(2, 123)\n",
    "km.fit(X)\n",
    "y_pred = km.predict(X)\n",
    "plt.scatter(X[:, 0], X[:, 1], c=y_pred)\n"
   ]
  },
  {
   "cell_type": "markdown",
   "metadata": {
    "id": "BMnG8ZjldAuq"
   },
   "source": [
    "# Simple Kernel Design\n"
   ]
  },
  {
   "cell_type": "code",
   "execution_count": null,
   "metadata": {
    "id": "jnlFdeW8dGHI"
   },
   "outputs": [],
   "source": [
    "class Kmeans_Kernel:\n",
    "    \"\"\"\n",
    "    Implementing Kmeans algorithm.\n",
    "\n",
    "    You may choose to define additional helper function within this class, however don't change the protype of `fit` and `predict` classes.\n",
    "    \"\"\"\n",
    "\n",
    "    def __init__(self, n_clusters, random_state):\n",
    "        \"\"\"\n",
    "        Implement of kMeans algorithm\n",
    "\n",
    "        Args:\n",
    "        n_clusters: int - no. of clusters\n",
    "        random_state: int - changing this should change initial cluster centers\n",
    "        \"\"\"\n",
    "\n",
    "        self.n_clusters = n_clusters\n",
    "        self.random_state = random_state\n",
    "\n",
    "\n",
    "    def make_zero_centered(self, X):\n",
    "        \"\"\"\n",
    "        Returns a zero-centered concentric circles Dataset\n",
    "\n",
    "        Args:\n",
    "        X : numpy array of shape (n_samples, 2)\n",
    "\n",
    "        Returns:\n",
    "        X : numpy array of shape (n_samples, 2)\n",
    "        \"\"\"\n",
    "\n",
    "        ## TODO\n",
    "        self.center = X.mean()\n",
    "        X = np.array(X - X.mean())\n",
    "        \n",
    "        ## END TODO\n",
    "\n",
    "        return X\n",
    "\n",
    "\n",
    "    def fit(self, X):\n",
    "        \"\"\"\n",
    "        Implement of kMeans algorithm along with using a suitable kernel and stores cluster centers as class object\n",
    "\n",
    "        Args:\n",
    "        X : numpy array of shape (n_samples, 2)\n",
    "\n",
    "        Returns:\n",
    "        Nothing\n",
    "        \"\"\"\n",
    "\n",
    "        ## TODO\n",
    "        X = self.make_zero_centered(X)\n",
    "        n_samples = X.shape[0]\n",
    "        np.random.seed(self.random_state)\n",
    "        phi = np.sqrt(np.sum(X**2, axis=1))\n",
    "        self.phi_centroids = np.array(phi[np.random.choice(n_samples, self.n_clusters, replace=False)])\n",
    "        Y = np.zeros((n_samples, ))\n",
    "        \n",
    "        for i in range(100):\n",
    "            new_Y = self.predict(X)\n",
    "\n",
    "            if (new_Y == Y).all():\n",
    "                break\n",
    "\n",
    "            Y = new_Y\n",
    "            for k in range(n_samples):\n",
    "                temp = X[Y==k]\n",
    "                if len(temp):\n",
    "                    self.phi_centroids[k] = np.mean(phi[Y==k], axis=0)\n",
    "        \n",
    "        ## END TODO\n",
    "\n",
    "\n",
    "    def predict(self, X):\n",
    "        \"\"\"\n",
    "        Uses the stored cluster centers from fit to predict labels using the kernel.\n",
    "  \n",
    "        Args:\n",
    "        X : numpy array of shape (n_samples, 2)\n",
    "\n",
    "        Returns:\n",
    "        Y : Labels for each of the data point in X.\n",
    "        \"\"\"\n",
    "\n",
    "        ## TODO\n",
    "        X = np.array(X - self.center)\n",
    "        Y = np.argmin(self.distance(X), axis=1)\n",
    "\n",
    "        ## END TODO\n",
    "\n",
    "        assert Y.shape == (X.shape[0],), \"Return Y in expected format\"\n",
    "        return Y\n",
    "    \n",
    "\n",
    "    def distance(self, X):\n",
    "        X_ = np.repeat(X.reshape((X.shape[0], 1, 2)), self.n_clusters, axis=1)\n",
    "        phi_X = np.sqrt(np.sum(X_**2, axis=2))\n",
    "        \n",
    "        return phi_X**2 + self.phi_centroids**2 - 2*np.multiply(phi_X, self.phi_centroids)\n",
    "\n",
    "\n",
    "X = np.load(\"./data/train_X_3.npy\")\n",
    "X = X + np.ones_like(X)*0.5\n",
    "Y = np.array([np.load(\"./data/train_Y_3.npy\")]).T\n",
    "Y = np.squeeze(Y)\n",
    "\n",
    "plt.scatter(X[:, 0], X[:, 1], c=Y)\n",
    "plt.figure()\n",
    "\n",
    "km = Kmeans_Kernel(2, 123)\n",
    "km.fit(X)\n",
    "y_pred = km.predict(X)\n",
    "plt.scatter(X[:, 0], X[:, 1], c=y_pred)\n"
   ]
  },
  {
   "cell_type": "code",
   "execution_count": null,
   "metadata": {},
   "outputs": [],
   "source": []
  }
 ],
 "metadata": {
  "colab": {
   "collapsed_sections": [],
   "name": "assignment_4.ipynb",
   "provenance": []
  },
  "interpreter": {
   "hash": "aea86b65f3ce5091a535cd6a4329dd553b3d175d52cb47abc7b8a422461c3cbe"
  },
  "kernelspec": {
   "display_name": "Python 3 (ipykernel)",
   "language": "python",
   "name": "python3"
  },
  "language_info": {
   "codemirror_mode": {
    "name": "ipython",
    "version": 3
   },
   "file_extension": ".py",
   "mimetype": "text/x-python",
   "name": "python",
   "nbconvert_exporter": "python",
   "pygments_lexer": "ipython3",
   "version": "3.8.12"
  }
 },
 "nbformat": 4,
 "nbformat_minor": 1
}
