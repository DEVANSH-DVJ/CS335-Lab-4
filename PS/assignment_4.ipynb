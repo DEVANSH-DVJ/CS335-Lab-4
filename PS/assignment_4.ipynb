{
 "cells": [
  {
   "cell_type": "markdown",
   "metadata": {
    "id": "9hRpsy5Zp8Lr"
   },
   "source": [
    "\n",
    "## <font color=red> You should not import any new libraries. Your code should run with python=3.x</font>\n",
    "\n",
    "- Your solutions will be auto-graded. Hence we request you to follow the instructions.\n",
    "- Modify the code only between \n",
    "```\n",
    "## TODO\n",
    "## END TODO\n",
    "```\n",
    "- In addition to above changes, you can play with arguments to the functions for generating plots\n",
    "- We will run the auto grading scripts with private test data"
   ]
  },
  {
   "cell_type": "code",
   "execution_count": null,
   "metadata": {
    "id": "9_SUYJ-3nuMy"
   },
   "outputs": [],
   "source": [
    "import numpy as np\n",
    "from matplotlib import pyplot as plt\n",
    "import math"
   ]
  },
  {
   "cell_type": "markdown",
   "metadata": {
    "id": "BiGi8JNJzN_f"
   },
   "source": [
    "# KMeans Algorithm"
   ]
  },
  {
   "cell_type": "code",
   "execution_count": null,
   "metadata": {
    "id": "weLDuQN5zMFA"
   },
   "outputs": [],
   "source": [
    "class Kmeans:\n",
    "    \"\"\"\n",
    "    Implementing Kmeans algorithm.\n",
    "\n",
    "    You may choose to define additional helper function within this class, however don't change the protype of `fit` and `predict` classes.   \n",
    "    \"\"\"\n",
    "\n",
    "    def __init__(self, n_clusters, random_state):\n",
    "        \"\"\"\n",
    "        Implement of kMeans algorithm\n",
    "\n",
    "        Args:\n",
    "        n_clusters: int - no. of clusters\n",
    "        random_state: int - changing this should change initial cluster centers\n",
    "        \"\"\"\n",
    "\n",
    "        self.n_clusters = n_clusters\n",
    "        self.random_state = random_state\n",
    "\n",
    "    \n",
    "    def fit(self, X):\n",
    "        \"\"\"\n",
    "        Implement of kMeans algorithm and stores cluster centers as class object\n",
    "\n",
    "        Args:\n",
    "        X : numpy array of shape (n_samples, 2)\n",
    "        \n",
    "        Returns:\n",
    "        Nothing\n",
    "        \"\"\"\n",
    "        ## TODO\n",
    "\n",
    "        ## END TODO\n",
    "    \n",
    "    def predict(self, X):\n",
    "        \"\"\"\n",
    "        Uses the stored cluster centers from fit to predict labels. \n",
    "        Args:\n",
    "        X : numpy array of shape (n_samples, 2)\n",
    "        \n",
    "        Returns:\n",
    "        Y: Labels for each of the data point in X. np\n",
    "        \"\"\"\n",
    "        Y = None\n",
    "        ## TODO\n",
    "\n",
    "        ## END TODO\n",
    "        assert Y.shape == (X.shape[0],), \"Return Y in expected format\"\n",
    "        return Y"
   ]
  },
  {
   "cell_type": "markdown",
   "metadata": {
    "id": "kxgQgosmYXRu"
   },
   "source": [
    "## LOAD DATA 1"
   ]
  },
  {
   "cell_type": "code",
   "execution_count": null,
   "metadata": {
    "colab": {
     "base_uri": "https://localhost:8080/",
     "height": 301
    },
    "executionInfo": {
     "elapsed": 1849,
     "status": "ok",
     "timestamp": 1633924171009,
     "user": {
      "displayName": "Durga Sivasubramanian",
      "photoUrl": "https://lh3.googleusercontent.com/a-/AOh14GiAQNHTlFmokLSaiU31Ynqp2h95VZSo2EYQGsHveg=s64",
      "userId": "00150371781630175620"
     },
     "user_tz": -330
    },
    "id": "TSk_qe4RXFYz",
    "outputId": "b2fedf0c-6a39-43e9-e2ec-64e373626521"
   },
   "outputs": [],
   "source": [
    "X = np.load('./data/train_X_1.npy')\n",
    "Y = np.array([np.load('./data/train_Y_1.npy')]).T\n",
    "Y = np.squeeze(Y)\n",
    "\n",
    "plt.scatter(X[:,0],X[:,1],c=Y)\n",
    "plt.figure()\n",
    "\n",
    "km = Kmeans(4,123)\n",
    "km.fit(X)\n",
    "y_pred = km.predict(X)\n",
    "plt.scatter(X[:,0],X[:,1],c=y_pred)"
   ]
  },
  {
   "cell_type": "markdown",
   "metadata": {
    "id": "WD0FOeS0JTk9"
   },
   "source": [
    "## LOAD DATA 2"
   ]
  },
  {
   "cell_type": "code",
   "execution_count": null,
   "metadata": {
    "id": "anDZmtgWqg8g"
   },
   "outputs": [],
   "source": [
    "X = np.load('./data/train_X_2.npy')\n",
    "Y = np.array([np.load('./data/train_Y_2.npy')]).T\n",
    "Y = np.squeeze(Y)\n",
    "\n",
    "plt.scatter(X[:,0],X[:,1],c=Y)\n",
    "plt.figure()\n",
    "\n",
    "km = Kmeans(2,123)\n",
    "km.fit(X)\n",
    "y_pred = km.predict(X)\n",
    "plt.scatter(X[:,0],X[:,1],c=y_pred)"
   ]
  },
  {
   "cell_type": "markdown",
   "metadata": {
    "id": "vxJ31SFSJmuF"
   },
   "source": [
    "## LOAD DATA 3"
   ]
  },
  {
   "cell_type": "code",
   "execution_count": null,
   "metadata": {
    "id": "pKghUdYZJmuG"
   },
   "outputs": [],
   "source": [
    "X = np.load('./data/train_X_3.npy')\n",
    "Y = np.array([np.load('./data/train_Y_3.npy')]).T\n",
    "Y = np.squeeze(Y)\n",
    "\n",
    "plt.scatter(X[:,0],X[:,1],c=Y)\n",
    "plt.figure()\n",
    "\n",
    "km = Kmeans(2,123)\n",
    "km.fit(X)\n",
    "y_pred = km.predict(X)\n",
    "plt.scatter(X[:,0],X[:,1],c=y_pred)"
   ]
  },
  {
   "cell_type": "markdown",
   "metadata": {
    "id": "BMnG8ZjldAuq"
   },
   "source": [
    "# Simple Kernel Design"
   ]
  },
  {
   "cell_type": "code",
   "execution_count": null,
   "metadata": {
    "id": "jnlFdeW8dGHI"
   },
   "outputs": [],
   "source": [
    "class Kmeans_Kernel:\n",
    "    \"\"\"\n",
    "    Implementing Kmeans algorithm.\n",
    "\n",
    "    You may choose to define additional helper function within this class, however don't change the protype of `fit` and `predict` classes.   \n",
    "    \"\"\"\n",
    "\n",
    "    def __init__(self, n_clusters, random_state):\n",
    "        \"\"\"\n",
    "        Implement of kMeans algorithm \n",
    "\n",
    "        Args:\n",
    "        n_clusters: int - no. of clusters\n",
    "        random_state: int - changing this should change initial cluster centers\n",
    "        \"\"\"\n",
    "\n",
    "        self.n_clusters = n_clusters\n",
    "        self.random_state = random_state\n",
    "\n",
    "    def make_zero_centered(self, X):\n",
    "        \"\"\"\n",
    "        Returns a zero-centered concentric circles Dataset\n",
    "\n",
    "        Args:\n",
    "        X : numpy array of shape (n_samples, 2)\n",
    "        \n",
    "        Returns:\n",
    "        X : numpy array of shape (n_samples, 2)\n",
    "        \"\"\"\n",
    "        ## TODO\n",
    "        ## END TODO\n",
    "\n",
    "        return X\n",
    "\n",
    "    \n",
    "    def fit(self, X):\n",
    "        \"\"\"\n",
    "        Implement of kMeans algorithm along with using a suitable kernel and stores cluster centers as class object\n",
    "\n",
    "        Args:\n",
    "        X : numpy array of shape (n_samples, 2)\n",
    "        \n",
    "        Returns:\n",
    "        Nothing\n",
    "        \"\"\"\n",
    "        ## TODO\n",
    "\n",
    "        ## END TODO\n",
    "    \n",
    "    def predict(self, X):\n",
    "        \"\"\"\n",
    "        Uses the stored cluster centers from fit to predict labels using the kernel. \n",
    "        Args:\n",
    "        X : numpy array of shape (n_samples, 2)\n",
    "        \n",
    "        Returns:\n",
    "        Y: Labels for each of the data point in X.\n",
    "        \"\"\"\n",
    "        ## TODO\n",
    "\n",
    "        ## END TODO\n",
    "\n",
    "X = np.load('./data/train_X_3.npy')\n",
    "Y = np.array([np.load('./data/train_Y_3.npy')]).T\n",
    "Y = np.squeeze(Y)\n",
    "\n",
    "plt.scatter(X[:,0],X[:,1],c=Y)\n",
    "plt.figure()\n",
    "\n",
    "km = Kmeans_Kernel(2,123)\n",
    "km.fit(X)\n",
    "y_pred = km.predict(X)\n",
    "plt.scatter(X[:,0],X[:,1],c=y_pred)"
   ]
  },
  {
   "cell_type": "markdown",
   "metadata": {
    "id": "_rlI-i6fafNu"
   },
   "source": [
    "# Kernelized classification"
   ]
  },
  {
   "cell_type": "markdown",
   "metadata": {
    "id": "X3zXb6xqaifk"
   },
   "source": [
    "## 3 a) Gram Matrix"
   ]
  },
  {
   "cell_type": "code",
   "execution_count": null,
   "metadata": {
    "id": "9VV_vU_GbMkj"
   },
   "outputs": [],
   "source": [
    "def linear_kernel(X,Y,sigma=None):\n",
    "\t'''Returns the gram matrix for a linear kernel\n",
    "\t\n",
    "\tArguments:\n",
    "\t\tX - numpy array of size n x d\n",
    "\t\tY - numpy array of size m x d\n",
    "\t\tsigma - dummy argment, don't use\n",
    "\tReturn:\n",
    "\t\tK - numpy array of size n x m\n",
    "\t''' \n",
    "\t# TODO \n",
    "\t# NOTE THAT YOU CANNOT USE FOR LOOPS HERE\n",
    "\tpass\n",
    "\t# END TODO\n",
    "\n",
    "def gaussian_kernel(X,Y,sigma=0.1):\n",
    "\t'''Returns the gram matrix for a rbf\n",
    "\t\n",
    "\tArguments:\n",
    "\t\tX - numpy array of size n x d\n",
    "\t\tY - numpy array of size m x d\n",
    "\t\tsigma - The sigma value for kernel\n",
    "\tReturn:\n",
    "\t\tK - numpy array of size n x m\n",
    "\t'''\n",
    "\t# TODO\n",
    "\t# NOTE THAT YOU CANNOT USE FOR LOOPS HERE \n",
    "\tpass\n",
    "\t# END TODO"
   ]
  },
  {
   "cell_type": "markdown",
   "metadata": {
    "id": "Udybw5lZbOeG"
   },
   "source": [
    "## 3 b) Kernel Logistic Regression"
   ]
  },
  {
   "cell_type": "code",
   "execution_count": null,
   "metadata": {
    "id": "5wR7WDlWcdnM"
   },
   "outputs": [],
   "source": [
    "class KernelLogistic(object):\n",
    "    def __init__(self, kernel=gaussian_kernel, iterations=100,eta=0.01,lamda=0.05,sigma=1):\n",
    "        self.kernel = lambda x,y: kernel(x,y,sigma)\n",
    "        self.iterations = iterations\n",
    "        self.alpha = None\n",
    "        self.eta = eta     # Step size for gradient descent\n",
    "        self.lamda = lamda # Regularization term\n",
    "\n",
    "    def fit(self, X, y):\n",
    "        ''' find the alpha values here'''\n",
    "        self.train_X = X\n",
    "        self.train_y = y\n",
    "        self.alpha = np.zeros((y.shape[0],1))\n",
    "        kernel = self.kernel(self.train_X,self.train_X)\n",
    "\n",
    "        # TODO\n",
    "\n",
    "        # END TODO\n",
    "    \n",
    "\n",
    "    def predict(self, X):\n",
    "        # TODO \n",
    "\n",
    "        # END TODO\n",
    "\n",
    "def k_fold_cv(X,y,k=10,sigma=1.0):\n",
    "    '''Does k-fold cross validation given train set (X, y)\n",
    "    Divide train set into k subsets, and train on (k-1) while testing on 1. \n",
    "    Do this process k times.\n",
    "    Do Not randomize \n",
    "    \n",
    "    Arguments:\n",
    "        X  -- Train set\n",
    "        y  -- Train set labels\n",
    "    \n",
    "    Keyword Arguments:\n",
    "        k {number} -- k for the evaluation\n",
    "        sigma {number} -- parameter for gaussian kernel\n",
    "    \n",
    "    Returns:\n",
    "        error -- (sum of total mistakes for each fold)/(k)\n",
    "    '''\n",
    "    # TODO \n",
    "\n",
    "    # END TODO"
   ]
  },
  {
   "cell_type": "markdown",
   "metadata": {
    "id": "F1MmFinpnxfi"
   },
   "source": [
    "## K fold runs"
   ]
  },
  {
   "cell_type": "code",
   "execution_count": null,
   "metadata": {
    "id": "xWueuqgNnwsD"
   },
   "outputs": [],
   "source": [
    "X1 = np.load('./data/train_X_3.npy')\n",
    "Y1 = np.array([np.load('./data/train_Y_3.npy')]).T\n",
    "Y1 = np.squeeze(Y1)\n",
    "\n",
    "clf = KernelLogistic(gaussian_kernel)\n",
    "clf.fit(X1, Y1)\n",
    "\n",
    "y_predict = clf.predict(X1) > 0.5\n",
    "\n",
    "correct = np.sum(y_predict == Y1)\n",
    "print(\"%d out of %d predictions correct\" % (correct, len(y_predict)))\n",
    "\n",
    "errs = []\n",
    "sigmas = [0.5, 1, 2, 3, 4, 5, 6]\n",
    "for s in sigmas:  \n",
    "    errs+=[(k_fold_cv(X1,Y1,sigma=s))]\n",
    "plt.plot(sigmas,errs)\n",
    "plt.xlabel('Sigma')\n",
    "plt.ylabel('Mistakes')\n",
    "plt.title('A plot of sigma v/s mistakes')\n",
    "plt.show()"
   ]
  }
 ],
 "metadata": {
  "colab": {
   "collapsed_sections": [],
   "name": "assignment_4.ipynb",
   "provenance": []
  },
  "kernelspec": {
   "display_name": "Python 3",
   "language": "python",
   "name": "python3"
  },
  "language_info": {
   "codemirror_mode": {
    "name": "ipython",
    "version": 3
   },
   "file_extension": ".py",
   "mimetype": "text/x-python",
   "name": "python",
   "nbconvert_exporter": "python",
   "pygments_lexer": "ipython3",
   "version": "3.7.1"
  }
 },
 "nbformat": 4,
 "nbformat_minor": 1
}
